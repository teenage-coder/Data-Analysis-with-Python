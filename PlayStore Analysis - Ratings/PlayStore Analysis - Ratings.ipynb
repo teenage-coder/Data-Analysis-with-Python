{
 "cells": [
  {
   "cell_type": "code",
   "execution_count": 4,
   "metadata": {},
   "outputs": [],
   "source": [
    "import pandas as pd"
   ]
  },
  {
   "cell_type": "code",
   "execution_count": 8,
   "metadata": {},
   "outputs": [],
   "source": [
    "df = pd.read_csv(\"Dataset/googleplaystore.csv\").dropna()"
   ]
  },
  {
   "cell_type": "code",
   "execution_count": 11,
   "metadata": {},
   "outputs": [],
   "source": [
    "ratings = df['Rating']"
   ]
  },
  {
   "cell_type": "code",
   "execution_count": 22,
   "metadata": {},
   "outputs": [
    {
     "name": "stdout",
     "output_type": "stream",
     "text": [
      "('Apps with more than 4.5 Ratings: ', 1917)\n"
     ]
    }
   ],
   "source": [
    "temp = 0\n",
    "\n",
    "for rating in ratings:\n",
    "    \n",
    "    if (rating > 4.5):\n",
    "        temp += 1\n",
    "        \n",
    "print(\"Apps with more than 4.5 Ratings: \",temp)"
   ]
  },
  {
   "cell_type": "code",
   "execution_count": 23,
   "metadata": {},
   "outputs": [
    {
     "name": "stdout",
     "output_type": "stream",
     "text": [
      "('Apps with 4.5 Rating: ', 1037)\n"
     ]
    }
   ],
   "source": [
    "temp = 0\n",
    "\n",
    "for rating in ratings:\n",
    "    \n",
    "    if (rating == 4.5):\n",
    "        temp += 1\n",
    "        \n",
    "print(\"Apps with 4.5 Rating: \",temp)"
   ]
  },
  {
   "cell_type": "code",
   "execution_count": 27,
   "metadata": {},
   "outputs": [
    {
     "name": "stdout",
     "output_type": "stream",
     "text": [
      "('Apps with less than 2 Rating: ', 56)\n"
     ]
    }
   ],
   "source": [
    "temp = 0\n",
    "\n",
    "for rating in ratings:\n",
    "    \n",
    "    if (rating < 2):\n",
    "        temp += 1\n",
    "        \n",
    "print(\"Apps with less than 2 Rating: \",temp)"
   ]
  },
  {
   "cell_type": "code",
   "execution_count": 28,
   "metadata": {},
   "outputs": [
    {
     "name": "stdout",
     "output_type": "stream",
     "text": [
      "('Apps with Rating btw (4 - 4.5): ', 3842)\n"
     ]
    }
   ],
   "source": [
    "temp = 0\n",
    "\n",
    "for rating in ratings:\n",
    "    \n",
    "    if (rating < 4.5 and rating > 4):\n",
    "        temp += 1\n",
    "        \n",
    "print(\"Apps with Rating btw (4 - 4.5): \",temp)"
   ]
  },
  {
   "cell_type": "code",
   "execution_count": 34,
   "metadata": {},
   "outputs": [
    {
     "name": "stdout",
     "output_type": "stream",
     "text": [
      "Enter the lower Rating: 4\n",
      "Enter the lower Higher: 5\n",
      "('Apps with Rating: ', 7363)\n"
     ]
    }
   ],
   "source": [
    "lower_rating = float(input(\"Enter the lower Rating: \"))\n",
    "upper_rating = float(input(\"Enter the lower Higher: \"))\n",
    "\n",
    "temp = 0\n",
    "\n",
    "for rating in ratings:\n",
    "    \n",
    "    if (rating <= upper_rating and rating >= lower_rating):\n",
    "        temp += 1\n",
    "        \n",
    "print(\"Apps with Rating: \",temp)"
   ]
  },
  {
   "cell_type": "code",
   "execution_count": null,
   "metadata": {},
   "outputs": [],
   "source": []
  }
 ],
 "metadata": {
  "kernelspec": {
   "display_name": "Python 2",
   "language": "python",
   "name": "python2"
  },
  "language_info": {
   "codemirror_mode": {
    "name": "ipython",
    "version": 2
   },
   "file_extension": ".py",
   "mimetype": "text/x-python",
   "name": "python",
   "nbconvert_exporter": "python",
   "pygments_lexer": "ipython2",
   "version": "2.7.16"
  }
 },
 "nbformat": 4,
 "nbformat_minor": 2
}
