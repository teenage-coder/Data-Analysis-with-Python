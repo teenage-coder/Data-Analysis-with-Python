{
 "cells": [
  {
   "cell_type": "code",
   "execution_count": 1,
   "metadata": {},
   "outputs": [],
   "source": [
    "import numpy as np\n",
    "import pandas as pd"
   ]
  },
  {
   "cell_type": "code",
   "execution_count": 2,
   "metadata": {},
   "outputs": [],
   "source": [
    "df = pd.read_csv('summer.csv').dropna()"
   ]
  },
  {
   "cell_type": "code",
   "execution_count": 3,
   "metadata": {
    "scrolled": true
   },
   "outputs": [
    {
     "data": {
      "text/html": [
       "<div>\n",
       "<style scoped>\n",
       "    .dataframe tbody tr th:only-of-type {\n",
       "        vertical-align: middle;\n",
       "    }\n",
       "\n",
       "    .dataframe tbody tr th {\n",
       "        vertical-align: top;\n",
       "    }\n",
       "\n",
       "    .dataframe thead th {\n",
       "        text-align: right;\n",
       "    }\n",
       "</style>\n",
       "<table border=\"1\" class=\"dataframe\">\n",
       "  <thead>\n",
       "    <tr style=\"text-align: right;\">\n",
       "      <th></th>\n",
       "      <th>Year</th>\n",
       "      <th>City</th>\n",
       "      <th>Sport</th>\n",
       "      <th>Discipline</th>\n",
       "      <th>Athlete</th>\n",
       "      <th>Country</th>\n",
       "      <th>Gender</th>\n",
       "      <th>Event</th>\n",
       "      <th>Medal</th>\n",
       "    </tr>\n",
       "  </thead>\n",
       "  <tbody>\n",
       "    <tr>\n",
       "      <th>0</th>\n",
       "      <td>1896</td>\n",
       "      <td>Athens</td>\n",
       "      <td>Aquatics</td>\n",
       "      <td>Swimming</td>\n",
       "      <td>HAJOS, Alfred</td>\n",
       "      <td>HUN</td>\n",
       "      <td>Men</td>\n",
       "      <td>100M Freestyle</td>\n",
       "      <td>Gold</td>\n",
       "    </tr>\n",
       "    <tr>\n",
       "      <th>1</th>\n",
       "      <td>1896</td>\n",
       "      <td>Athens</td>\n",
       "      <td>Aquatics</td>\n",
       "      <td>Swimming</td>\n",
       "      <td>HERSCHMANN, Otto</td>\n",
       "      <td>AUT</td>\n",
       "      <td>Men</td>\n",
       "      <td>100M Freestyle</td>\n",
       "      <td>Silver</td>\n",
       "    </tr>\n",
       "    <tr>\n",
       "      <th>2</th>\n",
       "      <td>1896</td>\n",
       "      <td>Athens</td>\n",
       "      <td>Aquatics</td>\n",
       "      <td>Swimming</td>\n",
       "      <td>DRIVAS, Dimitrios</td>\n",
       "      <td>GRE</td>\n",
       "      <td>Men</td>\n",
       "      <td>100M Freestyle For Sailors</td>\n",
       "      <td>Bronze</td>\n",
       "    </tr>\n",
       "    <tr>\n",
       "      <th>3</th>\n",
       "      <td>1896</td>\n",
       "      <td>Athens</td>\n",
       "      <td>Aquatics</td>\n",
       "      <td>Swimming</td>\n",
       "      <td>MALOKINIS, Ioannis</td>\n",
       "      <td>GRE</td>\n",
       "      <td>Men</td>\n",
       "      <td>100M Freestyle For Sailors</td>\n",
       "      <td>Gold</td>\n",
       "    </tr>\n",
       "    <tr>\n",
       "      <th>4</th>\n",
       "      <td>1896</td>\n",
       "      <td>Athens</td>\n",
       "      <td>Aquatics</td>\n",
       "      <td>Swimming</td>\n",
       "      <td>CHASAPIS, Spiridon</td>\n",
       "      <td>GRE</td>\n",
       "      <td>Men</td>\n",
       "      <td>100M Freestyle For Sailors</td>\n",
       "      <td>Silver</td>\n",
       "    </tr>\n",
       "  </tbody>\n",
       "</table>\n",
       "</div>"
      ],
      "text/plain": [
       "   Year    City     Sport Discipline             Athlete Country Gender  \\\n",
       "0  1896  Athens  Aquatics   Swimming       HAJOS, Alfred     HUN    Men   \n",
       "1  1896  Athens  Aquatics   Swimming    HERSCHMANN, Otto     AUT    Men   \n",
       "2  1896  Athens  Aquatics   Swimming   DRIVAS, Dimitrios     GRE    Men   \n",
       "3  1896  Athens  Aquatics   Swimming  MALOKINIS, Ioannis     GRE    Men   \n",
       "4  1896  Athens  Aquatics   Swimming  CHASAPIS, Spiridon     GRE    Men   \n",
       "\n",
       "                        Event   Medal  \n",
       "0              100M Freestyle    Gold  \n",
       "1              100M Freestyle  Silver  \n",
       "2  100M Freestyle For Sailors  Bronze  \n",
       "3  100M Freestyle For Sailors    Gold  \n",
       "4  100M Freestyle For Sailors  Silver  "
      ]
     },
     "execution_count": 3,
     "metadata": {},
     "output_type": "execute_result"
    }
   ],
   "source": [
    "df.head()"
   ]
  },
  {
   "cell_type": "code",
   "execution_count": 5,
   "metadata": {},
   "outputs": [
    {
     "data": {
      "text/plain": [
       "array(['Athens', 'Paris', 'St Louis', 'London', 'Stockholm', 'Antwerp',\n",
       "       'Amsterdam', 'Los Angeles', 'Berlin', 'Helsinki',\n",
       "       'Melbourne / Stockholm', 'Rome', 'Tokyo', 'Mexico', 'Munich',\n",
       "       'Montreal', 'Moscow', 'Seoul', 'Barcelona', 'Atlanta', 'Sydney',\n",
       "       'Beijing'], dtype=object)"
      ]
     },
     "execution_count": 5,
     "metadata": {},
     "output_type": "execute_result"
    }
   ],
   "source": [
    "df['City'].unique()"
   ]
  },
  {
   "cell_type": "code",
   "execution_count": 6,
   "metadata": {},
   "outputs": [
    {
     "data": {
      "text/plain": [
       "22"
      ]
     },
     "execution_count": 6,
     "metadata": {},
     "output_type": "execute_result"
    }
   ],
   "source": [
    "len(df['City'].unique())"
   ]
  },
  {
   "cell_type": "code",
   "execution_count": 8,
   "metadata": {},
   "outputs": [
    {
     "data": {
      "text/plain": [
       "27"
      ]
     },
     "execution_count": 8,
     "metadata": {},
     "output_type": "execute_result"
    }
   ],
   "source": [
    "len(df['Year'].unique())"
   ]
  },
  {
   "cell_type": "code",
   "execution_count": 15,
   "metadata": {},
   "outputs": [],
   "source": [
    "city = df['City'].unique()"
   ]
  },
  {
   "cell_type": "markdown",
   "metadata": {},
   "source": [
    "# Cities with Number of Summer Olympics"
   ]
  },
  {
   "cell_type": "code",
   "execution_count": 21,
   "metadata": {
    "scrolled": true
   },
   "outputs": [
    {
     "name": "stdout",
     "output_type": "stream",
     "text": [
      "('Athens', ':', 2)\n",
      "('Paris', ':', 2)\n",
      "('St Louis', ':', 1)\n",
      "('London', ':', 3)\n",
      "('Stockholm', ':', 1)\n",
      "('Antwerp', ':', 1)\n",
      "('Amsterdam', ':', 1)\n",
      "('Los Angeles', ':', 2)\n",
      "('Berlin', ':', 1)\n",
      "('Helsinki', ':', 1)\n",
      "('Melbourne / Stockholm', ':', 1)\n",
      "('Rome', ':', 1)\n",
      "('Tokyo', ':', 1)\n",
      "('Mexico', ':', 1)\n",
      "('Munich', ':', 1)\n",
      "('Montreal', ':', 1)\n",
      "('Moscow', ':', 1)\n",
      "('Seoul', ':', 1)\n",
      "('Barcelona', ':', 1)\n",
      "('Atlanta', ':', 1)\n",
      "('Sydney', ':', 1)\n",
      "('Beijing', ':', 1)\n"
     ]
    }
   ],
   "source": [
    "for i in city:\n",
    "    print(i , \":\" ,len(df[df['City'] == i]['Year'].unique()))"
   ]
  },
  {
   "cell_type": "code",
   "execution_count": 12,
   "metadata": {},
   "outputs": [
    {
     "data": {
      "text/plain": [
       "3"
      ]
     },
     "execution_count": 12,
     "metadata": {},
     "output_type": "execute_result"
    }
   ],
   "source": [
    "len(df[df['City'] == 'London']['Year'].unique())"
   ]
  },
  {
   "cell_type": "code",
   "execution_count": 13,
   "metadata": {},
   "outputs": [
    {
     "data": {
      "text/plain": [
       "2"
      ]
     },
     "execution_count": 13,
     "metadata": {},
     "output_type": "execute_result"
    }
   ],
   "source": [
    "len(df[df['City'] == 'Paris']['Year'].unique())"
   ]
  },
  {
   "cell_type": "code",
   "execution_count": 14,
   "metadata": {},
   "outputs": [
    {
     "data": {
      "text/plain": [
       "1"
      ]
     },
     "execution_count": 14,
     "metadata": {},
     "output_type": "execute_result"
    }
   ],
   "source": [
    "len(df[df['City'] == 'St Louis']['Year'].unique())"
   ]
  },
  {
   "cell_type": "code",
   "execution_count": null,
   "metadata": {},
   "outputs": [],
   "source": []
  },
  {
   "cell_type": "code",
   "execution_count": 27,
   "metadata": {},
   "outputs": [],
   "source": [
    "temp = df[df['City'] == 'London']"
   ]
  },
  {
   "cell_type": "code",
   "execution_count": 33,
   "metadata": {},
   "outputs": [
    {
     "name": "stdout",
     "output_type": "stream",
     "text": [
      "1183\n",
      "1159\n",
      "1221\n"
     ]
    }
   ],
   "source": [
    "print(len(temp[temp['Medal'] == 'Silver']))\n",
    "print(len(temp[temp['Medal'] == 'Bronze']))\n",
    "print(len(temp[temp['Medal'] == 'Gold']))"
   ]
  },
  {
   "cell_type": "code",
   "execution_count": 40,
   "metadata": {},
   "outputs": [
    {
     "data": {
      "text/plain": [
       "2786"
      ]
     },
     "execution_count": 40,
     "metadata": {},
     "output_type": "execute_result"
    }
   ],
   "source": [
    "temp = df[df['Gender'] == 'Women']\n",
    "\n",
    "len(temp[temp['Medal'] == 'Gold'])"
   ]
  },
  {
   "cell_type": "code",
   "execution_count": null,
   "metadata": {},
   "outputs": [],
   "source": []
  },
  {
   "cell_type": "code",
   "execution_count": null,
   "metadata": {},
   "outputs": [],
   "source": []
  },
  {
   "cell_type": "code",
   "execution_count": 43,
   "metadata": {},
   "outputs": [
    {
     "data": {
      "text/plain": [
       "array(['HUN', 'AUT', 'GRE', 'USA', 'GER', 'GBR', 'FRA', 'AUS', 'DEN',\n",
       "       'SUI', 'ZZX', 'NED', 'BEL', 'IND', 'CAN', 'BOH', 'SWE', 'NOR',\n",
       "       'ESP', 'ITA', 'CUB', 'ANZ', 'RSA', 'FIN', 'RU1', 'EST', 'TCH',\n",
       "       'NZL', 'BRA', 'JPN', 'LUX', 'ARG', 'POL', 'POR', 'URU', 'YUG',\n",
       "       'ROU', 'HAI', 'EGY', 'PHI', 'IRL', 'CHI', 'LAT', 'MEX', 'TUR',\n",
       "       'PAN', 'JAM', 'SRI', 'KOR', 'PUR', 'PER', 'IRI', 'TRI', 'URS',\n",
       "       'VEN', 'BUL', 'LIB', 'EUA', 'ISL', 'PAK', 'BAH', 'BWI', 'TPE',\n",
       "       'ETH', 'MAR', 'GHA', 'IRQ', 'SIN', 'TUN', 'KEN', 'NGR', 'GDR',\n",
       "       'FRG', 'UGA', 'CMR', 'MGL', 'PRK', 'COL', 'NIG', 'THA', 'BER',\n",
       "       'TAN', 'GUY', 'ZIM', 'CHN', 'CIV', 'ZAM', 'DOM', 'ALG', 'SYR',\n",
       "       'SUR', 'CRC', 'INA', 'SEN', 'DJI', 'AHO', 'ISV', 'EUN', 'NAM',\n",
       "       'QAT', 'LTU', 'MAS', 'CRO', 'ISR', 'SLO', 'IOP', 'RUS', 'UKR',\n",
       "       'ECU', 'BDI', 'MOZ', 'CZE', 'BLR', 'TGA', 'KAZ', 'UZB', 'SVK',\n",
       "       'MDA', 'GEO', 'HKG', 'ARM', 'AZE', 'BAR', 'KSA', 'KGZ', 'KUW',\n",
       "       'VIE', 'MKD', 'SCG', 'ERI', 'PAR', 'UAE', 'SRB', 'SUD', 'MRI',\n",
       "       'TOG', 'TJK', 'AFG', 'BRN', 'GUA', 'GRN', 'TTO', 'BOT', 'MNE',\n",
       "       'CYP', 'SGP', 'GAB'], dtype=object)"
      ]
     },
     "execution_count": 43,
     "metadata": {},
     "output_type": "execute_result"
    }
   ],
   "source": [
    "df['Country'].unique()"
   ]
  },
  {
   "cell_type": "code",
   "execution_count": 48,
   "metadata": {},
   "outputs": [
    {
     "name": "stdout",
     "output_type": "stream",
     "text": [
      "(128, 18, 38)\n"
     ]
    }
   ],
   "source": [
    "temp = df[df['Country'] == 'IND']\n",
    "\n",
    "print(len(temp[temp ['Medal'] == 'Gold']), len(temp[temp ['Medal'] == 'Silver']) , len(temp[temp ['Medal'] == 'Bronze']))"
   ]
  },
  {
   "cell_type": "code",
   "execution_count": 49,
   "metadata": {},
   "outputs": [
    {
     "name": "stdout",
     "output_type": "stream",
     "text": [
      "(412, 316, 351)\n"
     ]
    }
   ],
   "source": [
    "temp = df[df['Country'] == 'HUN']\n",
    "\n",
    "print(len(temp[temp ['Medal'] == 'Gold']), len(temp[temp ['Medal'] == 'Silver']) , len(temp[temp ['Medal'] == 'Bronze']))"
   ]
  },
  {
   "cell_type": "code",
   "execution_count": null,
   "metadata": {},
   "outputs": [],
   "source": []
  },
  {
   "cell_type": "code",
   "execution_count": 52,
   "metadata": {},
   "outputs": [
    {
     "name": "stdout",
     "output_type": "stream",
     "text": [
      "('HUN', 412, 316, 351)\n",
      "('AUT', 21, 81, 44)\n",
      "('GRE', 34, 62, 52)\n",
      "('USA', 2235, 1252, 1098)\n",
      "('GER', 452, 378, 475)\n",
      "('GBR', 546, 621, 553)\n",
      "('FRA', 408, 491, 497)\n",
      "('AUS', 312, 405, 472)\n",
      "('DEN', 150, 197, 160)\n",
      "('SUI', 75, 167, 138)\n",
      "('ZZX', 23, 15, 10)\n",
      "('NED', 233, 279, 339)\n",
      "('BEL', 91, 168, 152)\n",
      "('IND', 128, 18, 38)\n",
      "('CAN', 155, 232, 262)\n",
      "('BOH', 0, 1, 6)\n",
      "('SWE', 349, 367, 328)\n",
      "('NOR', 209, 200, 145)\n",
      "('ESP', 98, 227, 117)\n",
      "('ITA', 476, 416, 404)\n",
      "('CUB', 165, 129, 116)\n",
      "('ANZ', 20, 4, 5)\n",
      "('RSA', 30, 39, 37)\n",
      "('FIN', 124, 120, 212)\n",
      "('RU1', 1, 7, 9)\n",
      "('EST', 9, 10, 20)\n",
      "('TCH', 80, 144, 105)\n",
      "('NZL', 85, 30, 75)\n",
      "('BRA', 73, 173, 185)\n",
      "('JPN', 213, 272, 303)\n",
      "('LUX', 1, 1, 0)\n",
      "('ARG', 69, 99, 91)\n",
      "('POL', 106, 174, 231)\n",
      "('POR', 4, 11, 18)\n",
      "('URU', 44, 2, 30)\n",
      "('YUG', 143, 174, 118)\n",
      "('ROU', 157, 195, 288)\n",
      "('HAI', 0, 1, 7)\n",
      "('EGY', 7, 10, 11)\n",
      "('PHI', 0, 2, 7)\n",
      "('IRL', 9, 9, 12)\n",
      "('CHI', 3, 9, 21)\n",
      "('LAT', 3, 11, 6)\n",
      "('MEX', 32, 23, 51)\n",
      "('TUR', 38, 25, 23)\n",
      "('PAN', 1, 0, 2)\n",
      "('JAM', 31, 49, 47)\n",
      "('SRI', 0, 2, 0)\n",
      "('KOR', 158, 204, 167)\n",
      "('PUR', 0, 2, 6)\n",
      "('PER', 1, 14, 0)\n",
      "('IRI', 16, 21, 24)\n",
      "('TRI', 1, 8, 11)\n",
      "('URS', 838, 627, 584)\n",
      "('VEN', 2, 2, 8)\n",
      "('BUL', 53, 143, 137)\n",
      "('LIB', 0, 2, 2)\n",
      "('EUA', 68, 100, 92)\n",
      "('ISL', 0, 15, 2)\n",
      "('PAK', 42, 45, 34)\n",
      "('BAH', 13, 9, 5)\n",
      "('BWI', 0, 0, 5)\n",
      "('TPE', 3, 27, 14)\n",
      "('ETH', 21, 8, 16)\n",
      "('MAR', 6, 5, 11)\n",
      "('GHA', 0, 1, 15)\n",
      "('IRQ', 0, 0, 1)\n",
      "('SIN', 0, 4, 0)\n",
      "('TUN', 4, 2, 4)\n",
      "('KEN', 28, 35, 30)\n",
      "('NGR', 19, 38, 27)\n",
      "('GDR', 329, 271, 225)\n",
      "('FRG', 143, 167, 180)\n",
      "('UGA', 2, 3, 2)\n",
      "('CMR', 20, 1, 2)\n",
      "('MGL', 2, 9, 13)\n",
      "('PRK', 14, 12, 32)\n",
      "('COL', 2, 6, 11)\n",
      "('NIG', 0, 0, 1)\n",
      "('THA', 7, 6, 12)\n",
      "('BER', 0, 0, 1)\n",
      "('TAN', 0, 2, 0)\n",
      "('GUY', 0, 0, 1)\n",
      "('ZIM', 18, 4, 1)\n",
      "('CHN', 290, 296, 221)\n",
      "('CIV', 0, 1, 0)\n",
      "('ZAM', 0, 1, 1)\n",
      "('DOM', 3, 2, 1)\n",
      "('ALG', 5, 2, 8)\n",
      "('SYR', 1, 1, 1)\n",
      "('SUR', 1, 0, 1)\n",
      "('CRC', 1, 1, 2)\n",
      "('INA', 9, 16, 13)\n",
      "('SEN', 0, 1, 0)\n",
      "('DJI', 0, 0, 1)\n",
      "('AHO', 0, 1, 0)\n",
      "('ISV', 0, 1, 0)\n",
      "('EUN', 92, 65, 66)\n",
      "('NAM', 0, 4, 0)\n",
      "('QAT', 0, 0, 4)\n",
      "('LTU', 6, 5, 44)\n",
      "('MAS', 0, 4, 4)\n",
      "('CRO', 46, 34, 34)\n",
      "('ISR', 1, 1, 5)\n",
      "('SLO', 5, 7, 14)\n",
      "('IOP', 0, 1, 2)\n",
      "('RUS', 239, 238, 291)\n",
      "('UKR', 41, 42, 90)\n",
      "('ECU', 1, 1, 0)\n",
      "('BDI', 1, 0, 0)\n",
      "('MOZ', 1, 0, 1)\n",
      "('CZE', 14, 22, 20)\n",
      "('BLR', 17, 37, 59)\n",
      "('TGA', 0, 1, 0)\n",
      "('KAZ', 12, 17, 20)\n",
      "('UZB', 5, 5, 10)\n",
      "('SVK', 10, 12, 12)\n",
      "('MDA', 0, 3, 3)\n",
      "('GEO', 6, 5, 14)\n",
      "('HKG', 1, 2, 1)\n",
      "('ARM', 1, 2, 8)\n",
      "('AZE', 6, 5, 15)\n",
      "('BAR', 0, 0, 1)\n",
      "('KSA', 0, 1, 5)\n",
      "('KGZ', 0, 1, 2)\n",
      "('KUW', 0, 0, 2)\n",
      "('VIE', 0, 2, 0)\n",
      "('MKD', 0, 0, 1)\n",
      "('SCG', 0, 14, 0)\n",
      "('ERI', 0, 0, 1)\n",
      "('PAR', 0, 17, 0)\n",
      "('UAE', 1, 0, 0)\n",
      "('SRB', 1, 2, 28)\n",
      "('SUD', 0, 1, 0)\n",
      "('MRI', 0, 0, 1)\n",
      "('TOG', 0, 0, 1)\n",
      "('TJK', 0, 1, 2)\n",
      "('AFG', 0, 0, 2)\n",
      "('BRN', 0, 0, 1)\n",
      "('GUA', 0, 1, 0)\n",
      "('GRN', 1, 0, 0)\n",
      "('TTO', 1, 4, 5)\n",
      "('BOT', 0, 1, 0)\n",
      "('MNE', 0, 14, 0)\n",
      "('CYP', 0, 1, 0)\n",
      "('SGP', 0, 0, 4)\n",
      "('GAB', 0, 1, 0)\n"
     ]
    }
   ],
   "source": [
    "for country in df['Country'].unique():\n",
    "    \n",
    "    temp = df[df['Country'] == country]\n",
    "    print(country , len(temp[temp ['Medal'] == 'Gold']), len(temp[temp ['Medal'] == 'Silver']) , len(temp[temp ['Medal'] == 'Bronze']))"
   ]
  },
  {
   "cell_type": "code",
   "execution_count": null,
   "metadata": {},
   "outputs": [],
   "source": []
  },
  {
   "cell_type": "code",
   "execution_count": null,
   "metadata": {},
   "outputs": [],
   "source": []
  },
  {
   "cell_type": "code",
   "execution_count": null,
   "metadata": {},
   "outputs": [],
   "source": []
  },
  {
   "cell_type": "code",
   "execution_count": 62,
   "metadata": {},
   "outputs": [
    {
     "data": {
      "text/plain": [
       "127"
      ]
     },
     "execution_count": 62,
     "metadata": {},
     "output_type": "execute_result"
    }
   ],
   "source": [
    "temp = df[df['Country'] == 'IND']\n",
    "\n",
    "temp = temp[temp['Event'] == 'Hockey']\n",
    "\n",
    "len(temp[temp['Medal'] == 'Gold'])"
   ]
  },
  {
   "cell_type": "code",
   "execution_count": null,
   "metadata": {},
   "outputs": [],
   "source": []
  }
 ],
 "metadata": {
  "kernelspec": {
   "display_name": "Python 2",
   "language": "python",
   "name": "python2"
  },
  "language_info": {
   "codemirror_mode": {
    "name": "ipython",
    "version": 2
   },
   "file_extension": ".py",
   "mimetype": "text/x-python",
   "name": "python",
   "nbconvert_exporter": "python",
   "pygments_lexer": "ipython2",
   "version": "2.7.16"
  }
 },
 "nbformat": 4,
 "nbformat_minor": 2
}
